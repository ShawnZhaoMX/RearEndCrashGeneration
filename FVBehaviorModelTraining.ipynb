{
 "cells": [
  {
   "cell_type": "code",
   "execution_count": null,
   "id": "11ec6279-6b8c-42d2-a6d0-2385891abe99",
   "metadata": {},
   "outputs": [],
   "source": [
    "import pandas as pd"
   ]
  },
  {
   "cell_type": "code",
   "execution_count": null,
   "id": "1ada1cbf-739d-4cfe-876b-06efef6d03b0",
   "metadata": {},
   "outputs": [],
   "source": [
    "import torch\n",
    "import torch.nn as nn\n",
    "import torch.optim as optim\n",
    "\n",
    "from torch.utils.data import DataLoader"
   ]
  },
  {
   "cell_type": "code",
   "execution_count": null,
   "id": "ee776539-7f39-4781-bf62-b5461d7a8f43",
   "metadata": {},
   "outputs": [],
   "source": [
    "from utils_training import Dataset_FV\n",
    "from utils_training import FVTrainingData\n",
    "from utils_training import evaluate_FVmodel"
   ]
  },
  {
   "cell_type": "code",
   "execution_count": null,
   "id": "24cfcd0b-4e80-48c0-b3da-40e18f6584e2",
   "metadata": {},
   "outputs": [],
   "source": [
    "from behavior_model import FVBehaviorModel"
   ]
  },
  {
   "cell_type": "code",
   "execution_count": null,
   "id": "564835a7-3df7-4f9b-811b-662e404c0f33",
   "metadata": {},
   "outputs": [],
   "source": [
    "device = torch.device('cuda' if torch.cuda.is_available() else 'cpu')\n",
    "device"
   ]
  },
  {
   "cell_type": "code",
   "execution_count": null,
   "id": "53e3d3b1-bf06-407e-95bb-c9d4d1885c62",
   "metadata": {},
   "outputs": [],
   "source": [
    "# Replace 'your_file.csv' with the actual path to your CSV file\n",
    "file_path = '..\\Synthetic_crash_scenarios.csv'\n",
    "# file_path = '/content/drive/MyDrive/Colab Notebooks/Thesis Crash Generation/Synthetic_crash_scenarios.csv'\n",
    "\n",
    "# Read the CSV file into a DataFrame\n",
    "df = pd.read_csv(file_path)"
   ]
  },
  {
   "cell_type": "markdown",
   "id": "cd0d083f-c989-4dea-ad4d-9d859c33d318",
   "metadata": {},
   "source": [
    "## Build the dataset"
   ]
  },
  {
   "cell_type": "code",
   "execution_count": null,
   "id": "42f6f49b-385a-4f74-ac3b-32b17e32200a",
   "metadata": {},
   "outputs": [],
   "source": [
    "acc_min, acc_max, acc_interval =  -9.5, 4, 0.25\n",
    "acc_std_dev = 0.07\n",
    "Inputs, Inputs_Vl, Outputs, Weights = FVTrainingData(df)"
   ]
  },
  {
   "cell_type": "code",
   "execution_count": null,
   "id": "dfc1a9bc-cbd9-4a23-8bda-9c4f0799bfa3",
   "metadata": {},
   "outputs": [],
   "source": [
    "## Load the train, val, test indexes\n",
    "\n",
    "import pickle\n",
    "with open('..\\Idx05_train_val_test.pkl', 'rb') as f:\n",
    "    list_train_val_test = pickle.load(f)\n",
    "Idx_train, Idx_val, Idx_test = list_train_val_test[0], list_train_val_test[1], list_train_val_test[2]"
   ]
  },
  {
   "cell_type": "code",
   "execution_count": null,
   "id": "78bd21c7-0b35-4135-a1f0-c2a8a0941975",
   "metadata": {},
   "outputs": [],
   "source": [
    "## Split the Inputs, Outputs, Weights based on train, val, test indexes\n",
    "\n",
    "Inputs_train = [Inputs[i] for i in Idx_train]\n",
    "Inputs_Vl_train = [Inputs_Vl[i] for i in Idx_train]\n",
    "Outputs_train = [Outputs[i] for i in Idx_train]\n",
    "Weights_train = [Weights[i] for i in Idx_train]\n",
    "\n",
    "Inputs_val = [Inputs[i] for i in Idx_val]\n",
    "Inputs_Vl_val = [Inputs_Vl[i] for i in Idx_val]\n",
    "Outputs_val = [Outputs[i] for i in Idx_val]\n",
    "Weights_val = [Weights[i] for i in Idx_val]"
   ]
  },
  {
   "cell_type": "code",
   "execution_count": null,
   "id": "221a9c8e-f5f2-4dc9-9b82-20382c578761",
   "metadata": {},
   "outputs": [],
   "source": [
    "## Create dataset and dataloader\n",
    "\n",
    "input_size = Inputs[0].shape[1] # Dimension of the input\n",
    "batch_size = 64\n",
    "\n",
    "# dataset = BCDataset(Inputs, Outputs, Weights)\n",
    "# dataloader = DataLoader(dataset, batch_size=batch_size, shuffle=True)\n",
    "\n",
    "dataset_train = Dataset_FV(Inputs_train, Inputs_Vl_train, Outputs_train, Weights_train)\n",
    "dataloader_train = DataLoader(dataset_train, batch_size=batch_size, shuffle=True)\n",
    "\n",
    "dataset_val = Dataset_FV(Inputs_val, Inputs_Vl_val, Outputs_val, Weights_val)\n",
    "dataloader_val = DataLoader(dataset_val, batch_size=batch_size, shuffle=True)"
   ]
  },
  {
   "cell_type": "markdown",
   "id": "9ed6e424-a840-46f3-90e5-42bfc6b84693",
   "metadata": {},
   "source": [
    "## Model Training"
   ]
  },
  {
   "cell_type": "code",
   "execution_count": null,
   "id": "fc94a82b-a02a-46af-8bae-9d83c2233512",
   "metadata": {},
   "outputs": [],
   "source": [
    "## Network Parameters \n",
    "gru_hidden_size = 256 # Size of GRU's hidden layer\n",
    "mlp_hidden_size = 128 # Size of MLP's hidden layer\n",
    "output_size = int((acc_max - acc_min)/acc_interval) + 1\n",
    "\n",
    "## Training Parameters\n",
    "num_epochs = 500\n",
    "learning_rate = 0.0001\n",
    "\n",
    "## Instantiate model, loss function, and optimizer\n",
    "model = FVBehaviorModel(input_size, gru_hidden_size, mlp_hidden_size, output_size).to(device)\n",
    "# criterion = nn.KLDivLoss(reduction='batchmean').to(device)\n",
    "criterion = nn.KLDivLoss(reduction='none').to(device)\n",
    "optimizer = optim.AdamW(model.parameters(), lr=learning_rate)"
   ]
  },
  {
   "cell_type": "code",
   "execution_count": null,
   "id": "3fcd3068-28ac-4943-8abd-5d671419bc32",
   "metadata": {},
   "outputs": [],
   "source": [
    "best_val_loss = float('inf')\n",
    "best_train_loss = float('inf')\n",
    "best_trainval_loss = float('inf')\n",
    "best_val_epoch = 0\n",
    "best_train_epoch = 0\n",
    "best_trainval_epoch = 0\n",
    "best_val_model_path = f'.\\\\weights\\\\bc_fv_val_05.pth'\n",
    "best_train_model_path = f'.\\\\weights\\\\bc_fv_train_05.pth'\n",
    "best_trainval_model_path = f'.\\\\weights\\\\bc_fv_trainval_05.pth'"
   ]
  },
  {
   "cell_type": "code",
   "execution_count": null,
   "id": "33747efc-3e6d-4117-a901-a14232f185a6",
   "metadata": {},
   "outputs": [],
   "source": [
    "num_epochs = 2000"
   ]
  },
  {
   "cell_type": "code",
   "execution_count": null,
   "id": "e6f12065-daa0-450d-a877-1e416543c41f",
   "metadata": {},
   "outputs": [],
   "source": [
    "for epoch in range(num_epochs):\n",
    "    model.train() # set model as training mode\n",
    "    for inputs, inputs_vl, targets, sample_weights in dataloader_train:\n",
    "        inputs = inputs.float().to(device)\n",
    "        inputs_vl = inputs_vl.reshape(inputs_vl.shape[0],1,inputs_vl.shape[1])\n",
    "        inputs_vl = inputs_vl.float().to(device)\n",
    "        targets = targets.float().to(device)\n",
    "        sample_weights = sample_weights.to(device)\n",
    "        \n",
    "        optimizer.zero_grad()\n",
    "        log_probs = model(inputs,inputs_vl)\n",
    "        ## calculate loss\n",
    "        loss = criterion(log_probs, targets)\n",
    "        weighted_loss = torch.sum(torch.sum(loss,axis=2) * sample_weights.reshape(-1,1))/torch.sum(sample_weights) ## loss per weight\n",
    "        weighted_loss.backward()\n",
    "        optimizer.step()\n",
    "    \n",
    "    ## Calculate the mean, min, max loss of this epoch\n",
    "    model.eval()  # set model as evaluation mode\n",
    "    ## loss of training dataset\n",
    "    train_loss_mean, train_loss_min, train_loss_max = evaluate_FVmodel(model, criterion, dataloader_train, device)\n",
    "    ## loss of validation dataset\n",
    "    test_loss_mean, test_loss_min, test_loss_max = evaluate_FVmodel(model, criterion, dataloader_val, device)\n",
    "    ## loss of combination\n",
    "    trainval_loss_mean = (test_loss_mean*len(dataset_val) + train_loss_mean*len(dataset_train)) / (len(dataset_val)+len(dataset_train))\n",
    "\n",
    "    print(f'Epoch {epoch+1}/{num_epochs}, Loss_mean: {round(train_loss_mean.item(),2)}, \\\n",
    "     Loss_min: {round(train_loss_min.item(),2)}, Loss_max: {round(train_loss_max.item(),2)} \\n \\\n",
    "     Loss_mean_val: {round(test_loss_mean.item(),2)}, Loss_min_val: {round(test_loss_min.item(),2)}, \\\n",
    "     Loss_max_val: {round(test_loss_max.item(),2)} \\n \\\n",
    "     Loss_mean_trainval: {round(trainval_loss_mean.item(),2)}')\n",
    "\n",
    "    # Save the model if the current test loss is the best seen so far\n",
    "    if test_loss_mean < best_val_loss:\n",
    "        best_val_epoch = epoch+1\n",
    "        best_val_loss = test_loss_mean\n",
    "        best_val_model = model.state_dict()\n",
    "    if train_loss_mean < best_train_loss:\n",
    "        best_train_epoch = epoch+1\n",
    "        best_train_loss = train_loss_mean\n",
    "        best_train_model = model.state_dict()\n",
    "    if trainval_loss_mean < best_trainval_loss:\n",
    "        best_trainval_epoch = epoch+1\n",
    "        best_trainval_loss = trainval_loss_mean\n",
    "        best_trainval_model = model.state_dict()\n",
    "        \n",
    "torch.save(best_val_model, best_val_model_path)\n",
    "print(f\"Model saved with the best val loss. \\n Epoch: {best_val_epoch}, Loss_val: {round(best_val_loss.item(),2)}\")\n",
    "torch.save(best_train_model, best_train_model_path)\n",
    "print(f\"Model saved with the best train loss. \\n Epoch: {best_train_epoch}, Loss_val: {round(best_train_loss.item(),2)}\")\n",
    "torch.save(best_trainval_model, best_trainval_model_path)\n",
    "print(f\"Model saved with the best train loss. \\n Epoch: {best_trainval_epoch}, Loss_val: {round(best_trainval_loss.item(),2)}\")"
   ]
  },
  {
   "cell_type": "code",
   "execution_count": null,
   "id": "2a650054-8626-41f8-b5b7-073d6060d95b",
   "metadata": {},
   "outputs": [],
   "source": []
  }
 ],
 "metadata": {
  "kernelspec": {
   "display_name": "Python 3 (ipykernel)",
   "language": "python",
   "name": "python3"
  },
  "language_info": {
   "codemirror_mode": {
    "name": "ipython",
    "version": 3
   },
   "file_extension": ".py",
   "mimetype": "text/x-python",
   "name": "python",
   "nbconvert_exporter": "python",
   "pygments_lexer": "ipython3",
   "version": "3.11.9"
  }
 },
 "nbformat": 4,
 "nbformat_minor": 5
}
